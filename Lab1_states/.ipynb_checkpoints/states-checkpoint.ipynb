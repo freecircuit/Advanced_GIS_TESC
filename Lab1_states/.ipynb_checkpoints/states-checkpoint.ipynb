{
 "cells": [
  {
   "cell_type": "markdown",
   "id": "0c606af0-b240-40f2-82d0-c392625cedb5",
   "metadata": {},
   "source": [
    "# Advanced GIS Lab 1"
   ]
  },
  {
   "cell_type": "markdown",
   "id": "3ae917e8-41d1-4b0a-ad4d-4e6e6c01d528",
   "metadata": {},
   "source": [
    "### Import shapefiles and organize them inside a geopackage\n",
    "---"
   ]
  },
  {
   "cell_type": "code",
   "execution_count": 17,
   "id": "f7c4aaf3-bf98-40d9-895d-bfedd41932f9",
   "metadata": {},
   "outputs": [],
   "source": [
    "import pathlib\n",
    "import geopandas as gpd\n",
    "import pandas as pd\n",
    "import matplotlib.pyplot as plt"
   ]
  },
  {
   "cell_type": "code",
   "execution_count": 18,
   "id": "63097154-ee74-4369-82f7-1eaf2a56edbc",
   "metadata": {},
   "outputs": [],
   "source": [
    "#Establish working directory paths\n",
    "PATH = pathlib.Path().resolve()\n",
    "DATA_DIR = PATH / 'data'\n",
    "OUTPUT = PATH / 'output'"
   ]
  },
  {
   "cell_type": "code",
   "execution_count": 19,
   "id": "9fd114b0-5eb7-4609-93cc-053b92209a42",
   "metadata": {},
   "outputs": [
    {
     "name": "stdout",
     "output_type": "stream",
     "text": [
      "Freeways\n",
      "States\n",
      "Large_Cities\n"
     ]
    }
   ],
   "source": [
    "#Select all shapefiles\n",
    "gdf = {}\n",
    "shp_files = DATA_DIR.glob('*.shp')\n",
    "for file in shp_files:\n",
    "    name = file.stem\n",
    "    gdf[name] = gpd.read_file(file)\n",
    "    print(name)"
   ]
  },
  {
   "cell_type": "code",
   "execution_count": 38,
   "id": "9ca51dc9-d43c-4a60-bd08-7a76dc16ed6e",
   "metadata": {},
   "outputs": [],
   "source": [
    "#Loop through shapefiles and import them into shared geopackage\n",
    "for layer in enumerate(gdf):\n",
    "    if layer[0] == 0:\n",
    "        gdf[layer[1]].to_file(OUTPUT / 'States.gpkg', layer=layer[1])\n",
    "    else:\n",
    "        gdf[layer[1]].to_file(OUTPUT / 'States.gpkg', layer=layer[1], mode='a')"
   ]
  },
  {
   "cell_type": "markdown",
   "id": "c9c034b9-3d16-4a56-a79a-5f82a6629b3d",
   "metadata": {},
   "source": [
    "## Establish Variables for mapping from Geopackage"
   ]
  },
  {
   "cell_type": "code",
   "execution_count": 39,
   "id": "1a17ebaf-5cf1-4a05-8acc-042c3d38c54b",
   "metadata": {},
   "outputs": [],
   "source": [
    "states = gpd.read_file(OUTPUT / 'States.gpkg', layer='States')\n",
    "freeways = gpd.read_file(OUTPUT / 'States.gpkg', layer='Freeways')\n",
    "cities = gpd.read_file(OUTPUT / 'States.gpkg', layer='Large_Cities')"
   ]
  },
  {
   "cell_type": "code",
   "execution_count": null,
   "id": "bb4032d1-cbd4-4be0-a62e-451a6d7e68eb",
   "metadata": {},
   "outputs": [],
   "source": []
  }
 ],
 "metadata": {
  "kernelspec": {
   "display_name": "Python 3.13",
   "language": "python",
   "name": "python3.13"
  },
  "language_info": {
   "codemirror_mode": {
    "name": "ipython",
    "version": 3
   },
   "file_extension": ".py",
   "mimetype": "text/x-python",
   "name": "python",
   "nbconvert_exporter": "python",
   "pygments_lexer": "ipython3",
   "version": "3.13.7"
  }
 },
 "nbformat": 4,
 "nbformat_minor": 5
}
